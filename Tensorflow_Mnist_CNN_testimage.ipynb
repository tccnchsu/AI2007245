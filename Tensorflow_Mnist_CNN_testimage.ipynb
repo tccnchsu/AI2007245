{
  "nbformat": 4,
  "nbformat_minor": 0,
  "metadata": {
    "colab": {
      "name": "Tensorflow_Mnist_CNN_testimage.ipynb",
      "version": "0.3.2",
      "provenance": [],
      "collapsed_sections": []
    },
    "kernelspec": {
      "name": "python3",
      "display_name": "Python 3"
    },
    "accelerator": "GPU"
  },
  "cells": [
    {
      "metadata": {
        "id": "YJvke4Y7DLkx",
        "colab_type": "text"
      },
      "cell_type": "markdown",
      "source": [
        "# 資料準備"
      ]
    },
    {
      "metadata": {
        "id": "jQNqD5YcDLky",
        "colab_type": "code",
        "outputId": "e069a153-30c7-4871-89e5-939184c1101a",
        "colab": {
          "base_uri": "https://localhost:8080/",
          "height": 85
        }
      },
      "cell_type": "code",
      "source": [
        "import tensorflow as tf\n",
        "import tensorflow.examples.tutorials.mnist.input_data as input_data\n",
        "mnist = input_data.read_data_sets(\"MNIST_data/\", one_hot=True)"
      ],
      "execution_count": 172,
      "outputs": [
        {
          "output_type": "stream",
          "text": [
            "Extracting MNIST_data/train-images-idx3-ubyte.gz\n",
            "Extracting MNIST_data/train-labels-idx1-ubyte.gz\n",
            "Extracting MNIST_data/t10k-images-idx3-ubyte.gz\n",
            "Extracting MNIST_data/t10k-labels-idx1-ubyte.gz\n"
          ],
          "name": "stdout"
        }
      ]
    },
    {
      "metadata": {
        "id": "4NUPtk8mDLk4",
        "colab_type": "text"
      },
      "cell_type": "markdown",
      "source": [
        "# 建立共用函數"
      ]
    },
    {
      "metadata": {
        "id": "pvkP7YjcDLk5",
        "colab_type": "code",
        "colab": {}
      },
      "cell_type": "code",
      "source": [
        "def weight(shape):\n",
        "    return tf.Variable(tf.truncated_normal(shape, stddev=0.1),\n",
        "                       name ='W')"
      ],
      "execution_count": 0,
      "outputs": []
    },
    {
      "metadata": {
        "id": "cfr4aK8ADLk8",
        "colab_type": "code",
        "colab": {}
      },
      "cell_type": "code",
      "source": [
        "def bias(shape):\n",
        "    return tf.Variable(tf.constant(0.1, shape=shape)\n",
        "                       , name = 'b')"
      ],
      "execution_count": 0,
      "outputs": []
    },
    {
      "metadata": {
        "id": "MCY_YU0tDLk_",
        "colab_type": "code",
        "colab": {}
      },
      "cell_type": "code",
      "source": [
        "def conv2d(x, W):\n",
        "    return tf.nn.conv2d(x, W, strides=[1,1,1,1], \n",
        "                        padding='SAME')"
      ],
      "execution_count": 0,
      "outputs": []
    },
    {
      "metadata": {
        "id": "nVJ_QXiyDLlC",
        "colab_type": "code",
        "colab": {}
      },
      "cell_type": "code",
      "source": [
        "def max_pool_2x2(x):\n",
        "    return tf.nn.max_pool(x, ksize=[1,2,2,1], \n",
        "                          strides=[1,2,2,1], \n",
        "                          padding='SAME')"
      ],
      "execution_count": 0,
      "outputs": []
    },
    {
      "metadata": {
        "collapsed": true,
        "id": "cF9idJYsDLlE",
        "colab_type": "text"
      },
      "cell_type": "markdown",
      "source": [
        "# 輸入層 Input Layer"
      ]
    },
    {
      "metadata": {
        "id": "aB-qLAiJDLlG",
        "colab_type": "code",
        "colab": {}
      },
      "cell_type": "code",
      "source": [
        "with tf.name_scope('Input_Layer'):\n",
        "    x = tf.placeholder(\"float\",shape=[None, 784]\n",
        "                       ,name=\"x\")    \n",
        "    x_image = tf.reshape(x, [-1, 28, 28, 1])"
      ],
      "execution_count": 0,
      "outputs": []
    },
    {
      "metadata": {
        "id": "GMPe-Cq_DLlJ",
        "colab_type": "text"
      },
      "cell_type": "markdown",
      "source": [
        "# Convolutional Layer 1"
      ]
    },
    {
      "metadata": {
        "id": "hrsZNA9rDLlK",
        "colab_type": "code",
        "colab": {}
      },
      "cell_type": "code",
      "source": [
        "with tf.name_scope('C1_Conv'):\n",
        "    W1 = weight([5,5,1,16])\n",
        "    b1 = bias([16])\n",
        "    Conv1=conv2d(x_image, W1)+ b1\n",
        "    C1_Conv = tf.nn.relu(Conv1 )"
      ],
      "execution_count": 0,
      "outputs": []
    },
    {
      "metadata": {
        "id": "ivToOsfmDLlN",
        "colab_type": "code",
        "colab": {}
      },
      "cell_type": "code",
      "source": [
        "with tf.name_scope('C1_Pool'):\n",
        "    C1_Pool = max_pool_2x2(C1_Conv)"
      ],
      "execution_count": 0,
      "outputs": []
    },
    {
      "metadata": {
        "id": "hqAgPE7zDLlQ",
        "colab_type": "text"
      },
      "cell_type": "markdown",
      "source": [
        "# Convolutional Layer 2"
      ]
    },
    {
      "metadata": {
        "id": "5luVTM8fDLlQ",
        "colab_type": "code",
        "colab": {}
      },
      "cell_type": "code",
      "source": [
        "with tf.name_scope('C2_Conv'):\n",
        "    W2 = weight([5,5,16,36])\n",
        "    b2 = bias([36])\n",
        "    Conv2=conv2d(C1_Pool, W2)+ b2\n",
        "    C2_Conv = tf.nn.relu(Conv2)"
      ],
      "execution_count": 0,
      "outputs": []
    },
    {
      "metadata": {
        "id": "q86xunaODLlT",
        "colab_type": "code",
        "colab": {}
      },
      "cell_type": "code",
      "source": [
        "with tf.name_scope('C2_Pool'):\n",
        "    C2_Pool = max_pool_2x2(C2_Conv) "
      ],
      "execution_count": 0,
      "outputs": []
    },
    {
      "metadata": {
        "id": "M1962Z6QDLlW",
        "colab_type": "text"
      },
      "cell_type": "markdown",
      "source": [
        "# Fully Connected Layer"
      ]
    },
    {
      "metadata": {
        "id": "tDFqFWloDLlW",
        "colab_type": "code",
        "colab": {}
      },
      "cell_type": "code",
      "source": [
        "with tf.name_scope('D_Flat'):\n",
        "    D_Flat = tf.reshape(C2_Pool, [-1, 1764])"
      ],
      "execution_count": 0,
      "outputs": []
    },
    {
      "metadata": {
        "id": "GMYRVs6PDLlZ",
        "colab_type": "code",
        "colab": {}
      },
      "cell_type": "code",
      "source": [
        "with tf.name_scope('D_Hidden_Layer'):\n",
        "    W3= weight([1764, 128])\n",
        "    b3= bias([128])\n",
        "    D_Hidden = tf.nn.relu(\n",
        "                  tf.matmul(D_Flat, W3)+b3)\n",
        "    D_Hidden_Dropout= tf.nn.dropout(D_Hidden, \n",
        "                                keep_prob=0.8)"
      ],
      "execution_count": 0,
      "outputs": []
    },
    {
      "metadata": {
        "collapsed": true,
        "id": "jKqouCVxDLlc",
        "colab_type": "text"
      },
      "cell_type": "markdown",
      "source": [
        "# 輸出層Output"
      ]
    },
    {
      "metadata": {
        "id": "Fzi-13AQDLld",
        "colab_type": "code",
        "colab": {}
      },
      "cell_type": "code",
      "source": [
        "with tf.name_scope('Output_Layer'):\n",
        "    W4 = weight([128,10])\n",
        "    b4 = bias([10])\n",
        "    y_predict= tf.nn.softmax(\n",
        "                 tf.matmul(D_Hidden_Dropout,\n",
        "                           W4)+b4)"
      ],
      "execution_count": 0,
      "outputs": []
    },
    {
      "metadata": {
        "id": "xEyJXVLHDLlg",
        "colab_type": "text"
      },
      "cell_type": "markdown",
      "source": [
        "# 設定訓練模型最佳化步驟"
      ]
    },
    {
      "metadata": {
        "id": "jl7ZFce6DLlh",
        "colab_type": "code",
        "colab": {}
      },
      "cell_type": "code",
      "source": [
        "with tf.name_scope(\"optimizer\"):\n",
        "    \n",
        "    y_label = tf.placeholder(\"float\", shape=[None, 10], \n",
        "                              name=\"y_label\")\n",
        "    \n",
        "    loss_function = tf.reduce_mean(\n",
        "                      tf.nn.softmax_cross_entropy_with_logits\n",
        "                         (logits=y_predict , \n",
        "                          labels=y_label))\n",
        "    \n",
        "    optimizer = tf.train.AdamOptimizer(learning_rate=0.0001) \\\n",
        "                    .minimize(loss_function)"
      ],
      "execution_count": 0,
      "outputs": []
    },
    {
      "metadata": {
        "id": "3uh13VbADLlj",
        "colab_type": "text"
      },
      "cell_type": "markdown",
      "source": [
        "# 設定評估模型"
      ]
    },
    {
      "metadata": {
        "id": "P591faNDDLll",
        "colab_type": "code",
        "colab": {}
      },
      "cell_type": "code",
      "source": [
        "with tf.name_scope(\"evaluate_model\"):\n",
        "    correct_prediction = tf.equal(tf.argmax(y_predict, 1),\n",
        "                                  tf.argmax(y_label, 1))\n",
        "    accuracy = tf.reduce_mean(tf.cast(correct_prediction, \"float\"))"
      ],
      "execution_count": 0,
      "outputs": []
    },
    {
      "metadata": {
        "id": "_q2qcs5LDLlq",
        "colab_type": "text"
      },
      "cell_type": "markdown",
      "source": [
        "# 訓練模型"
      ]
    },
    {
      "metadata": {
        "id": "miipuTN5DLlr",
        "colab_type": "code",
        "colab": {}
      },
      "cell_type": "code",
      "source": [
        "trainEpochs = 3\n",
        "batchSize = 100\n",
        "totalBatchs = int(mnist.train.num_examples/batchSize)\n",
        "epoch_list=[];accuracy_list=[];loss_list=[];\n",
        "from time import time\n",
        "startTime=time()\n",
        "sess = tf.Session()\n",
        "sess.run(tf.global_variables_initializer())"
      ],
      "execution_count": 0,
      "outputs": []
    },
    {
      "metadata": {
        "id": "GegeN5iiDLlt",
        "colab_type": "code",
        "outputId": "ad781507-f980-42b2-8516-23d3fbf8adb5",
        "colab": {
          "base_uri": "https://localhost:8080/",
          "height": 85
        }
      },
      "cell_type": "code",
      "source": [
        "for epoch in range(trainEpochs):\n",
        "\n",
        "    \n",
        "    for i in range(totalBatchs):\n",
        "        batch_x, batch_y = mnist.train.next_batch(batchSize)\n",
        "        sess.run(optimizer,feed_dict={x: batch_x,\n",
        "                                      y_label: batch_y})\n",
        "        \n",
        "    \n",
        "    loss,acc = sess.run([loss_function,accuracy],\n",
        "                        feed_dict={x: mnist.validation.images, \n",
        "                                   y_label: mnist.validation.labels})\n",
        "\n",
        "    epoch_list.append(epoch)\n",
        "    loss_list.append(loss);accuracy_list.append(acc)    \n",
        "    \n",
        "    print(\"Train Epoch:\", '%02d' % (epoch+1), \\\n",
        "          \"Loss=\",\"{:.9f}\".format(loss),\" Accuracy=\",acc)\n",
        "    \n",
        "duration =time()-startTime\n",
        "print(\"Train Finished takes:\",duration)         "
      ],
      "execution_count": 188,
      "outputs": [
        {
          "output_type": "stream",
          "text": [
            "Train Epoch: 01 Loss= 1.661598444  Accuracy= 0.8194\n",
            "Train Epoch: 02 Loss= 1.545250893  Accuracy= 0.931\n",
            "Train Epoch: 03 Loss= 1.520473838  Accuracy= 0.9488\n",
            "Train Finished takes: 11.142988920211792\n"
          ],
          "name": "stdout"
        }
      ]
    },
    {
      "metadata": {
        "id": "rpN7IBGBDLlx",
        "colab_type": "code",
        "colab": {
          "base_uri": "https://localhost:8080/",
          "height": 188
        },
        "outputId": "28cc8efd-56bc-478c-c7cd-f778d9b3261a"
      },
      "cell_type": "code",
      "source": [
        "%matplotlib inline\n",
        "import matplotlib.pyplot as plt\n",
        "fig = plt.gcf()\n",
        "fig.set_size_inches(4,2)\n",
        "plt.plot(epoch_list, loss_list, label = 'loss')\n",
        "plt.ylabel('loss')\n",
        "plt.xlabel('epoch')\n",
        "plt.legend(['loss'], loc='upper left')"
      ],
      "execution_count": 189,
      "outputs": [
        {
          "output_type": "execute_result",
          "data": {
            "text/plain": [
              "<matplotlib.legend.Legend at 0x7f452019b390>"
            ]
          },
          "metadata": {
            "tags": []
          },
          "execution_count": 189
        },
        {
          "output_type": "display_data",
          "data": {
            "image/png": "[encoded data removed]",
            "text/plain": [
              "<matplotlib.figure.Figure at 0x7f450b576400>"
            ]
          },
          "metadata": {
            "tags": []
          }
        }
      ]
    },
    {
      "metadata": {
        "id": "gtQshVj2DLl0",
        "colab_type": "code",
        "colab": {
          "base_uri": "https://localhost:8080/",
          "height": 175
        },
        "outputId": "405a1ee9-f70b-4291-d3a9-fae48c9dbff1"
      },
      "cell_type": "code",
      "source": [
        "plt.plot(epoch_list, accuracy_list,label=\"accuracy\" )\n",
        "fig = plt.gcf()\n",
        "fig.set_size_inches(4,2)\n",
        "plt.ylim(0.8,1)\n",
        "plt.ylabel('accuracy')\n",
        "plt.xlabel('epoch')\n",
        "plt.legend()\n",
        "plt.show()\n"
      ],
      "execution_count": 190,
      "outputs": [
        {
          "output_type": "display_data",
          "data": {
            "image/png": "[encoded data removed]",
            "text/plain": [
              "<matplotlib.figure.Figure at 0x7f452022d048>"
            ]
          },
          "metadata": {
            "tags": []
          }
        }
      ]
    },
    {
      "metadata": {
        "id": "zjlRo1ENDLl2",
        "colab_type": "text"
      },
      "cell_type": "markdown",
      "source": [
        "# 評估模型準確率"
      ]
    },
    {
      "metadata": {
        "id": "wnyBBM6XDLl4",
        "colab_type": "code",
        "colab": {
          "base_uri": "https://localhost:8080/",
          "height": 34
        },
        "outputId": "a6bc4e0a-a119-4cc6-d919-d52572ec4ec6"
      },
      "cell_type": "code",
      "source": [
        "len(mnist.test.images)"
      ],
      "execution_count": 191,
      "outputs": [
        {
          "output_type": "execute_result",
          "data": {
            "text/plain": [
              "10000"
            ]
          },
          "metadata": {
            "tags": []
          },
          "execution_count": 191
        }
      ]
    },
    {
      "metadata": {
        "id": "f55d7MHYDLl6",
        "colab_type": "code",
        "colab": {
          "base_uri": "https://localhost:8080/",
          "height": 34
        },
        "outputId": "b4466e87-8ccb-48d0-c675-b8dd4b95253e"
      },
      "cell_type": "code",
      "source": [
        "print(\"Accuracy:\", \n",
        "      sess.run(accuracy,feed_dict={x: mnist.test.images,\n",
        "                                   y_label: mnist.test.labels}))"
      ],
      "execution_count": 192,
      "outputs": [
        {
          "output_type": "stream",
          "text": [
            "Accuracy: 0.9467\n"
          ],
          "name": "stdout"
        }
      ]
    },
    {
      "metadata": {
        "id": "xe6wO9WTDLl9",
        "colab_type": "code",
        "colab": {
          "base_uri": "https://localhost:8080/",
          "height": 34
        },
        "outputId": "b70847bd-28d3-4e18-d794-6fd9b274c648"
      },
      "cell_type": "code",
      "source": [
        "print(\"Accuracy:\", \n",
        "      sess.run(accuracy,feed_dict={x: mnist.test.images[:5000],\n",
        "                                   y_label: mnist.test.labels[:5000]}))\n"
      ],
      "execution_count": 193,
      "outputs": [
        {
          "output_type": "stream",
          "text": [
            "Accuracy: 0.924\n"
          ],
          "name": "stdout"
        }
      ]
    },
    {
      "metadata": {
        "id": "NGiwNFM0DLl_",
        "colab_type": "code",
        "colab": {
          "base_uri": "https://localhost:8080/",
          "height": 34
        },
        "outputId": "cf1f909e-a8e1-45f2-9183-99aacf4abdf8"
      },
      "cell_type": "code",
      "source": [
        "print(\"Accuracy:\", \n",
        "      sess.run(accuracy,feed_dict={x: mnist.test.images[5000:],\n",
        "                                   y_label: mnist.test.labels[5000:]}))"
      ],
      "execution_count": 194,
      "outputs": [
        {
          "output_type": "stream",
          "text": [
            "Accuracy: 0.9632\n"
          ],
          "name": "stdout"
        }
      ]
    },
    {
      "metadata": {
        "id": "pautMYs9DLmC",
        "colab_type": "text"
      },
      "cell_type": "markdown",
      "source": [
        "# 預測機率"
      ]
    },
    {
      "metadata": {
        "id": "33OKnBnsDLmE",
        "colab_type": "code",
        "colab": {
          "base_uri": "https://localhost:8080/",
          "height": 34
        },
        "outputId": "af74f69e-2ef9-4532-947f-0c37a5c5e93a"
      },
      "cell_type": "code",
      "source": [
        "#y_predict=sess.run(y_predict, feed_dict={x: mnist.test.images[:5000]})\n",
        "print(mnist.test.images[0].shape)"
      ],
      "execution_count": 195,
      "outputs": [
        {
          "output_type": "stream",
          "text": [
            "(784,)\n"
          ],
          "name": "stdout"
        }
      ]
    },
    {
      "metadata": {
        "id": "xnr7wm2TDLmF",
        "colab_type": "code",
        "colab": {
          "base_uri": "https://localhost:8080/",
          "height": 34
        },
        "outputId": "17a7726a-f92e-4ae5-83c7-29b4facf5ed4"
      },
      "cell_type": "code",
      "source": [
        "y_predict[:5]"
      ],
      "execution_count": 196,
      "outputs": [
        {
          "output_type": "execute_result",
          "data": {
            "text/plain": [
              "<tf.Tensor 'strided_slice_1:0' shape=(?, 10) dtype=float32>"
            ]
          },
          "metadata": {
            "tags": []
          },
          "execution_count": 196
        }
      ]
    },
    {
      "metadata": {
        "id": "i1443euKDLmI",
        "colab_type": "text"
      },
      "cell_type": "markdown",
      "source": [
        "# 預測結果"
      ]
    },
    {
      "metadata": {
        "id": "Jpix4LPSDLmJ",
        "colab_type": "code",
        "colab": {}
      },
      "cell_type": "code",
      "source": [
        "prediction_result=sess.run(tf.argmax(y_predict,1),\n",
        "                           feed_dict={x: mnist.test.images ,\n",
        "                                      y_label: mnist.test.labels})"
      ],
      "execution_count": 0,
      "outputs": []
    },
    {
      "metadata": {
        "id": "NAZ6z9tQDLmM",
        "colab_type": "code",
        "colab": {
          "base_uri": "https://localhost:8080/",
          "height": 34
        },
        "outputId": "e5003930-d817-4b1e-d970-c4b2108c00f4"
      },
      "cell_type": "code",
      "source": [
        "prediction_result[:10]\n"
      ],
      "execution_count": 198,
      "outputs": [
        {
          "output_type": "execute_result",
          "data": {
            "text/plain": [
              "array([7, 2, 1, 0, 4, 1, 4, 9, 5, 9])"
            ]
          },
          "metadata": {
            "tags": []
          },
          "execution_count": 198
        }
      ]
    },
    {
      "metadata": {
        "id": "28CJWaOcDLmO",
        "colab_type": "code",
        "colab": {}
      },
      "cell_type": "code",
      "source": [
        "import numpy as np\n",
        "def show_images_labels_predict(images,labels,prediction_result):\n",
        "    fig = plt.gcf()\n",
        "    fig.set_size_inches(8, 10)\n",
        "    for i in range(0, 10):\n",
        "        ax=plt.subplot(5,5, 1+i)\n",
        "        ax.imshow(np.reshape(images[i],(28, 28)), \n",
        "                  cmap='binary')\n",
        "        ax.set_title(\"label=\" +str(np.argmax(labels[i]))+\n",
        "                     \",predict=\"+str(prediction_result[i])\n",
        "                     ,fontsize=9) \n",
        "    plt.show()"
      ],
      "execution_count": 0,
      "outputs": []
    },
    {
      "metadata": {
        "id": "ZUQiEkpADLmR",
        "colab_type": "code",
        "colab": {
          "base_uri": "https://localhost:8080/",
          "height": 250
        },
        "outputId": "65b97c9e-3562-45aa-9d7a-8d4e99c5a331"
      },
      "cell_type": "code",
      "source": [
        "show_images_labels_predict(mnist.test.images,mnist.test.labels,prediction_result)"
      ],
      "execution_count": 200,
      "outputs": [
        {
          "output_type": "display_data",
          "data": {
            "image/png": "[encoded data removed]",
            "text/plain": [
              "<matplotlib.figure.Figure at 0x7f450b4f4978>"
            ]
          },
          "metadata": {
            "tags": []
          }
        }
      ]
    },
    {
      "metadata": {
        "id": "3nVUxZCiDLmU",
        "colab_type": "text"
      },
      "cell_type": "markdown",
      "source": [
        "# 找出預測錯誤"
      ]
    },
    {
      "metadata": {
        "id": "z6x3G0P9DLmV",
        "colab_type": "code",
        "colab": {
          "base_uri": "https://localhost:8080/",
          "height": 493
        },
        "outputId": "3e86134b-52fc-4747-c62b-3e22af7edd5c"
      },
      "cell_type": "code",
      "source": [
        "for i in range(500):\n",
        "    if prediction_result[i]!=np.argmax(mnist.test.labels[i]):\n",
        "        print(\"i=\"+str(i)+\n",
        "              \"   label=\",np.argmax(mnist.test.labels[i]),\n",
        "              \"predict=\",prediction_result[i])"
      ],
      "execution_count": 201,
      "outputs": [
        {
          "output_type": "stream",
          "text": [
            "i=73   label= 9 predict= 7\n",
            "i=115   label= 4 predict= 9\n",
            "i=121   label= 4 predict= 6\n",
            "i=144   label= 7 predict= 9\n",
            "i=184   label= 8 predict= 3\n",
            "i=217   label= 6 predict= 5\n",
            "i=233   label= 8 predict= 7\n",
            "i=241   label= 9 predict= 8\n",
            "i=257   label= 8 predict= 1\n",
            "i=259   label= 6 predict= 0\n",
            "i=290   label= 8 predict= 4\n",
            "i=318   label= 2 predict= 3\n",
            "i=320   label= 9 predict= 1\n",
            "i=321   label= 2 predict= 7\n",
            "i=324   label= 0 predict= 9\n",
            "i=340   label= 5 predict= 3\n",
            "i=341   label= 6 predict= 4\n",
            "i=362   label= 2 predict= 7\n",
            "i=403   label= 8 predict= 7\n",
            "i=435   label= 8 predict= 7\n",
            "i=444   label= 2 predict= 8\n",
            "i=445   label= 6 predict= 0\n",
            "i=448   label= 9 predict= 8\n",
            "i=449   label= 3 predict= 5\n",
            "i=464   label= 3 predict= 7\n",
            "i=468   label= 7 predict= 9\n",
            "i=479   label= 9 predict= 3\n",
            "i=495   label= 8 predict= 0\n"
          ],
          "name": "stdout"
        }
      ]
    },
    {
      "metadata": {
        "id": "DNVceFmjDLmY",
        "colab_type": "code",
        "colab": {}
      },
      "cell_type": "code",
      "source": [
        "def show_images_labels_predict_error(images,labels,prediction_result):\n",
        "    fig = plt.gcf()\n",
        "    fig.set_size_inches(8, 10)\n",
        "    i=0;j=0\n",
        "    while i<10:\n",
        "        if prediction_result[j]!=np.argmax(labels[j]):\n",
        "            ax=plt.subplot(5,5, 1+i)\n",
        "            ax.imshow(np.reshape(images[j],(28, 28)), \n",
        "                      cmap='binary')\n",
        "            ax.set_title(\"j=\"+str(j)+\n",
        "                         \",l=\" +str(np.argmax(labels[j]))+\n",
        "                         \",p=\"+str(prediction_result[j])\n",
        "                         ,fontsize=9) \n",
        "            i=i+1  \n",
        "        j=j+1\n",
        "    plt.show()"
      ],
      "execution_count": 0,
      "outputs": []
    },
    {
      "metadata": {
        "id": "MdusA5CsDLmZ",
        "colab_type": "code",
        "colab": {
          "base_uri": "https://localhost:8080/",
          "height": 250
        },
        "outputId": "f3032d95-90ed-4d94-9ac9-82766a666530"
      },
      "cell_type": "code",
      "source": [
        "show_images_labels_predict_error(mnist.test.images,mnist.test.labels,prediction_result)"
      ],
      "execution_count": 203,
      "outputs": [
        {
          "output_type": "display_data",
          "data": {
            "image/png": "[encoded data removed]",
            "text/plain": [
              "<matplotlib.figure.Figure at 0x7f45090c6080>"
            ]
          },
          "metadata": {
            "tags": []
          }
        }
      ]
    },
    {
      "metadata": {
        "id": "h7R6n9nLDLmd",
        "colab_type": "code",
        "colab": {}
      },
      "cell_type": "code",
      "source": [
        "saver = tf.train.Saver()"
      ],
      "execution_count": 0,
      "outputs": []
    },
    {
      "metadata": {
        "id": "y8dnRl13DLmi",
        "colab_type": "code",
        "colab": {}
      },
      "cell_type": "code",
      "source": [
        "save_path = saver.save(sess, \"saveModel/CNN_model1\")"
      ],
      "execution_count": 0,
      "outputs": []
    },
    {
      "metadata": {
        "id": "DVFpBkRkDLml",
        "colab_type": "code",
        "colab": {
          "base_uri": "https://localhost:8080/",
          "height": 34
        },
        "outputId": "58b7ac53-b42e-4af9-90b2-8b21abd1e858"
      },
      "cell_type": "code",
      "source": [
        "print(\"Model saved in file: %s\" % save_path)"
      ],
      "execution_count": 206,
      "outputs": [
        {
          "output_type": "stream",
          "text": [
            "Model saved in file: saveModel/CNN_model1\n"
          ],
          "name": "stdout"
        }
      ]
    },
    {
      "metadata": {
        "id": "cY3k1VHQDLmo",
        "colab_type": "code",
        "colab": {}
      },
      "cell_type": "code",
      "source": [
        "merged = tf.summary.merge_all()\n",
        "train_writer = tf.summary.FileWriter('log/CNN',sess.graph)"
      ],
      "execution_count": 0,
      "outputs": []
    },
    {
      "metadata": {
        "id": "iu1h8ASyDLmr",
        "colab_type": "code",
        "colab": {}
      },
      "cell_type": "code",
      "source": [
        "#sess.close()"
      ],
      "execution_count": 0,
      "outputs": []
    },
    {
      "metadata": {
        "id": "3NchqmwmQByu",
        "colab_type": "code",
        "colab": {
          "base_uri": "https://localhost:8080/",
          "height": 34
        },
        "outputId": "d7cda1a7-9bf1-4325-8964-89035583537f"
      },
      "cell_type": "code",
      "source": [
        "from google.colab import drive\n",
        "drive.mount('/content/drive/')"
      ],
      "execution_count": 209,
      "outputs": [
        {
          "output_type": "stream",
          "text": [
            "Drive already mounted at /content/drive/; to attempt to forcibly remount, call drive.mount(\"/content/drive/\", force_remount=True).\n"
          ],
          "name": "stdout"
        }
      ]
    },
    {
      "metadata": {
        "id": "pxA94HnTQjNN",
        "colab_type": "code",
        "colab": {
          "base_uri": "https://localhost:8080/",
          "height": 272
        },
        "outputId": "f528c9d1-fe35-40ef-dc76-159cd00f2004"
      },
      "cell_type": "code",
      "source": [
        "import os\n",
        "os.chdir(\"/content/drive/My Drive/ColabNotebooks\")\n",
        "cwd = os.getcwd()\n",
        "print(cwd)\n",
        "!ls"
      ],
      "execution_count": 210,
      "outputs": [
        {
          "output_type": "stream",
          "text": [
            "/content/drive/My Drive/ColabNotebooks\n",
            " bin2result.png\t\t\t        p3.png\n",
            " courses\t\t\t        predictionimages\n",
            " dogandcat\t\t\t        pretrainedmodel\n",
            " drive\t\t\t\t        RunMinstByPython.ipynb\n",
            " hellowgooglemap.ipynb\t\t        saveModel\n",
            " Lecturesavestoremodelpredict.py        SegNetCMR\n",
            "'loadmodel andrunmedimgsegment.ipynb'   Tensorflow_Mnist_CNN.ipynb\n",
            " log\t\t\t\t        Tensorflow_Mnist_MLP_h256.ipynb\n",
            " MNIST\t\t\t\t        testdir.ipynb\n",
            " mnist2\t\t\t\t        testplotimage0.ipynb\n",
            " mnist_cnn.py\t\t\t        tmp\n",
            " MNIST_data\t\t\t        trainandpredict.ipynb\n",
            " object_detection.ipynb\t\t        TrainModelandSave.ipynb\n",
            " p2.png\n"
          ],
          "name": "stdout"
        }
      ]
    },
    {
      "metadata": {
        "id": "LjtPC-DGSrYP",
        "colab_type": "code",
        "colab": {
          "base_uri": "https://localhost:8080/",
          "height": 282
        },
        "outputId": "0c14ac7b-6f2a-4c72-e05e-50c75fe1682e"
      },
      "cell_type": "code",
      "source": [
        "# plot image\n",
        "import matplotlib.pyplot as plt\n",
        "from matplotlib.image import imread\n",
        "\n",
        "img = imread('p2.png') # 画像の読み込み\n",
        "img=1.0-img[:,:,0]\n",
        "plt.imshow(img)\n",
        "print(img.shape)\n",
        "#print(img)\n",
        "#print(mnist.test.images[0].shape)\n",
        "#img0=np.reshape(mnist.test.images[0],(28, 28))\n",
        "#plt.imshow(img0)\n",
        "#print(img0.shape)\n",
        "\n",
        "plt.show()"
      ],
      "execution_count": 211,
      "outputs": [
        {
          "output_type": "stream",
          "text": [
            "(28, 28)\n"
          ],
          "name": "stdout"
        },
        {
          "output_type": "display_data",
          "data": {
            "image/png": "[encoded data removed]",
            "text/plain": [
              "<matplotlib.figure.Figure at 0x7f4509182c50>"
            ]
          },
          "metadata": {
            "tags": []
          }
        }
      ]
    },
    {
      "metadata": {
        "id": "dTjUo2CmWYOJ",
        "colab_type": "code",
        "colab": {
          "base_uri": "https://localhost:8080/",
          "height": 34
        },
        "outputId": "1bc918b1-5c7f-46d5-8cbf-14fc60126808"
      },
      "cell_type": "code",
      "source": [
        "img=img.reshape(784)\n",
        "print(img.shape)\n",
        "mnist.test.images[0]=img\n",
        "#y_predict=sess.run(y_predict, feed_dict={x: mnist.test.images[:5]})\n",
        "y_predict0=sess.run(y_predict, feed_dict={x: mnist.test.images[:5]})"
      ],
      "execution_count": 216,
      "outputs": [
        {
          "output_type": "stream",
          "text": [
            "(784,)\n"
          ],
          "name": "stdout"
        }
      ]
    },
    {
      "metadata": {
        "id": "J1HNXZkRcIFM",
        "colab_type": "code",
        "colab": {
          "base_uri": "https://localhost:8080/",
          "height": 272
        },
        "outputId": "f41976ae-88b8-4762-80d1-711c33d0f244"
      },
      "cell_type": "code",
      "source": [
        "y_predict0[0]"
      ],
      "execution_count": 214,
      "outputs": [
        {
          "output_type": "execute_result",
          "data": {
            "text/plain": [
              "array([[5.8955878e-13, 2.2637148e-09, 9.9999142e-01, 3.3630022e-06,\n",
              "        8.2440632e-09, 9.2909846e-12, 5.1717202e-06, 6.9574742e-11,\n",
              "        7.0606774e-08, 1.0673511e-09],\n",
              "       [4.1188244e-09, 1.1181656e-12, 9.9999928e-01, 7.1093581e-07,\n",
              "        1.7621164e-16, 1.3911165e-10, 2.6569098e-09, 2.2523286e-16,\n",
              "        1.8001955e-08, 2.1434558e-16],\n",
              "       [1.5668397e-07, 9.9980539e-01, 2.4595392e-05, 1.1792060e-06,\n",
              "        2.2852955e-05, 2.6823889e-07, 4.1882045e-05, 6.5655928e-05,\n",
              "        2.8076769e-05, 1.0031953e-05],\n",
              "       [9.9999821e-01, 1.0123086e-12, 6.1056751e-09, 1.8800663e-09,\n",
              "        3.8933717e-12, 1.0907945e-06, 7.5179554e-07, 3.0767739e-09,\n",
              "        2.3251545e-11, 1.8224911e-08],\n",
              "       [2.4567939e-06, 3.0471012e-05, 1.2708217e-05, 9.7475564e-08,\n",
              "        9.8910517e-01, 3.2573901e-08, 8.7275647e-04, 1.5903030e-04,\n",
              "        4.3638488e-06, 9.8129176e-03]], dtype=float32)"
            ]
          },
          "metadata": {
            "tags": []
          },
          "execution_count": 214
        }
      ]
    },
    {
      "metadata": {
        "id": "s_kyLBNwgHx-",
        "colab_type": "text"
      },
      "cell_type": "markdown",
      "source": [
        "許志宇"
      ]
    }
  ]
}