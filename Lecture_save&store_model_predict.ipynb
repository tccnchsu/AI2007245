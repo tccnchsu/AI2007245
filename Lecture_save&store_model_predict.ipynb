{
 "cells": [
  {
   "cell_type": "code",
   "execution_count": null,
   "metadata": {},
   "outputs": [],
   "source": [
    "from __future__ import print_function\n",
    "import tensorflow as tf\n",
    "import os\n",
    "import numpy as np\n",
    "from PIL import Image\n",
    "\n",
    "os.environ['TF_CPP_MIN_LOG_LEVEL'] = '2' \n",
    "# number 1 to 2 data"
   ]
  },
  {
   "cell_type": "code",
   "execution_count": null,
   "metadata": {
    "scrolled": true
   },
   "outputs": [],
   "source": [
    "# from tensorflow.examples.tutorials.mnist import input_data\n",
    "# mnist = input_data.read_data_sets('MNIST_data/', one_hot=True)\n",
    "import mnist2.mnist as mn\n",
    "mnist = mn.read_data_sets('MNIST/', one_hot=True, num_classes=2)\n",
    "\n",
    "def compute_accuracy(v_xs, v_ys):\n",
    "    global prediction\n",
    "    y_pre = sess.run(prediction, feed_dict={xs: v_xs, keep_prob: 1})\n",
    "    correct_prediction = tf.equal(tf.argmax(y_pre,1), tf.argmax(v_ys,1))\n",
    "    accuracy = tf.reduce_mean(tf.cast(correct_prediction, tf.float32))\n",
    "    result = sess.run(accuracy, feed_dict={xs: v_xs, ys: v_ys, keep_prob: 1})\n",
    "    return result\n",
    "\n",
    "def weight_variable(shape):\n",
    "    inital = tf.truncated_normal(shape, stddev=0.1)\n",
    "    return tf.Variable(inital)\n",
    "\n",
    "def bias_variable(shape):\n",
    "    inital = tf.constant(0.1, shape=shape)\n",
    "    return tf.Variable(inital)\n",
    "\n",
    "def conv2d(x, W):\n",
    "    return tf.nn.conv2d(x, W, strides=[1, 1, 1, 1], padding='SAME')\n",
    "\n",
    "def max_pool_2x2(x):\n",
    "    return tf.nn.max_pool(x, ksize=[1, 2, 2, 1],\n",
    "                        strides=[1, 2, 2, 1], padding='SAME')\n",
    "\n",
    "\n",
    "# define placeholder for inputs to network\n",
    "\n",
    "xs = tf.placeholder(tf.float32, [None, 784, 1]) # 28x28\n",
    "\n",
    "ys = tf.placeholder(tf.float32, [None, 2])\n",
    "keep_prob = tf.placeholder(tf.float32)\n",
    "x_image = tf.reshape(xs, [-1, 28, 28, 1])\n",
    "\n",
    "## conv1 layer ##\n",
    "\n",
    "W_conv1 = weight_variable([5, 5, 1, 32]) #patch 5x5, in channel size 1, out size 32\n",
    "\n",
    "## pool1 layer ##\n",
    "\n",
    "b_conv1 = bias_variable([32])\n",
    "#Combine\n",
    "\n",
    "h_conv1 = tf.nn.relu(conv2d(x_image, W_conv1) + b_conv1) #output size 28x28x32\n",
    "\n",
    "h_pool1 = max_pool_2x2(h_conv1) #output size 14x14x32\n",
    "\n",
    "\n",
    "\n",
    "## conv2 layer ##\n",
    "\n",
    "W_conv2 = weight_variable([5, 5, 32, 64]) #patch 5x5, in channel size 32, out size 64\n",
    "\n",
    "## pool2 layer ##\n",
    "\n",
    "b_conv2 = bias_variable([64])\n",
    "#Combine\n",
    "\n",
    "h_conv2 = tf.nn.relu(conv2d(h_pool1, W_conv2) + b_conv2) #output size 14x14x64\n",
    "\n",
    "h_pool2 = max_pool_2x2(h_conv2) #output size 7x7x64\n",
    "\n",
    "## fc1 layer ##\n",
    "\n",
    "W_fc1 = weight_variable([7*7*64, 1024])\n",
    "b_fc1 = bias_variable([1024])\n",
    "h_pool2_flat = tf.reshape(h_pool2, [-1, 7*7*64]) #[n_samples, 7,7,64]  => [n_samples, 7*7*64]\n",
    "\n",
    "h_fc1 = tf.nn.relu(tf.matmul(h_pool2_flat, W_fc1) + b_fc1)\n",
    "h_fc1_drop = tf.nn.dropout(h_fc1, keep_prob)\n",
    "\n",
    "## output layer ##\n",
    "\n",
    "W_fc2 = weight_variable([1024, 2])\n",
    "b_fc2 = bias_variable([2])\n",
    "prediction = tf.nn.softmax(tf.matmul(h_fc1_drop, W_fc2) + b_fc2)\n",
    "pred_argm = tf.argmax(tf.matmul(h_fc1_drop, W_fc2) + b_fc2)\n",
    "\n",
    "cross_entropy = tf.reduce_mean(-tf.reduce_sum(ys * tf.log(prediction),\n",
    "                                              reduction_indices=[1]))\n",
    "train_step = tf.train.AdamOptimizer(1e-4).minimize(cross_entropy)\n",
    "\n",
    "\n",
    "\n",
    "sess = tf.Session()\n",
    "sess.run(tf.initialize_all_variables())\n",
    "\n",
    "\n",
    "# save all the variables.\n",
    "saver = tf.train.Saver(max_to_keep=1)\n",
    "\n",
    "\n",
    "# You can try to change 150 to 10000\n",
    "for i in range(100):\n",
    "    batch_xs, batch_ys = mnist.train.next_batch(100)\n",
    "    sess.run(train_step, feed_dict={xs: batch_xs, ys: batch_ys, keep_prob:0.5})\n",
    "    if i % 50 == 0:\n",
    "       print(compute_accuracy(mnist.test.images, mnist.test.labels))\n",
    "\n"
   ]
  },
  {
   "cell_type": "code",
   "execution_count": null,
   "metadata": {},
   "outputs": [],
   "source": [
    "testimage = np.zeros((256, 256, 1))\n",
    "img = Image.open('./prediction_images/test1.png')\n",
    "#img = numpy.asarray(PIL.Image.open('./prediction_images/test1.png')\n",
    "#img = img.resize((28, 28))\n",
    "\n",
    "testimage=np.array(img).reshape(256,256,1)\n",
    "\n",
    "\n",
    "x0=128\n",
    "y0=128\n",
    "patchimage=testimage[x0:x0+28,y0:y0+28,0]\n",
    "testpatchimage = np.array(patchimage).reshape(1,784,1)\n",
    "\n",
    "\n",
    "pred_soft, pred_arg = sess.run([prediction, pred_argm],feed_dict={xs:testpatchimage,keep_prob:0.5})\n",
    "\n",
    "print(pred_soft)\n",
    "print(pred_arg)\n",
    "print(pred_arg.shape)\n",
    "\n",
    "\n",
    "savefile='./tmp/model_ckpt'\n",
    "saver.save(sess,savefile)\n"
   ]
  },
  {
   "cell_type": "code",
   "execution_count": 11,
   "metadata": {},
   "outputs": [],
   "source": [
    "from scipy import ndimage\n",
    "import matplotlib.pyplot as plt\n",
    "import matplotlib.image as mpimg\n",
    "from matplotlib.image import imread\n",
    "from matplotlib import cm\n",
    "from matplotlib.colors import NoNorm\n",
    "import pylab\n",
    "from scipy import misc\n",
    "from PIL import Image\n",
    "import numpy as np"
   ]
  },
  {
   "cell_type": "code",
   "execution_count": 12,
   "metadata": {},
   "outputs": [
    {
     "name": "stdout",
     "output_type": "stream",
     "text": [
      "C:\\Users\\tccnchsucyut\\free_network_workshop\n"
     ]
    },
    {
     "data": {
      "image/png": "[encoded data removed]",
      "text/plain": [
       "<Figure size 432x288 with 1 Axes>"
      ]
     },
     "metadata": {},
     "output_type": "display_data"
    }
   ],
   "source": [
    "plt.title('FIG1.1 256x256 original image') # When you want to read all images please mark this line statment\n",
    "from matplotlib.image import imread\n",
    "print(os.getcwd())\n",
    "#img=imread('./prediction_images/bin1.png')# read image png format\n",
    "#img = np.asarray(Image.open('./prediction_images/bin1.png'))\n",
    "plt.imshow(img, cmap=plt.cm.gray, norm=NoNorm())\n",
    "plt.show()"
   ]
  },
  {
   "cell_type": "code",
   "execution_count": 13,
   "metadata": {},
   "outputs": [],
   "source": [
    "def segmentation_binary(patchimage):\n",
    "    #print(patchimage.shape)\n",
    "    testpatchimage = np.array(patchimage).reshape(1,784,1)\n",
    "    #print(patchimage.shape)\n",
    "    #plt.imshow(patchimage, cmap=plt.cm.gray, norm=NoNorm()) # When you want to read all images please mark this line statment\n",
    "    #print(patchimage.shape)\n",
    "    #print(patchimage.dtype.name)\n",
    "    #plt.title('FIG1.2 32x32 patch image') # When you want to read all images please mark this line statment\n",
    "    #plt.show() # When y\n",
    "    patchimage=np.array(patchimage, dtype='float32')\n",
    "    testpatchimage = np.array(patchimage).reshape(1,784,1)\n",
    "    #Convert from [0, 255] -> [0.0, 1.0].\n",
    "    testpatchimage=np.multiply(testpatchimage, 1.0 / 255.0)\n",
    "    #print(testpatchimage)\n",
    "    #normalize pixels to 0 and 1. 0 is pure white, 1 is pure black.\n",
    "    #tva = [ (255-x)*1.0/255.0 for x in tv] \n",
    "    #print(testpatchimage.dtype)\n",
    "    #print(testpatchimage.shape)\n",
    "    #v_xs=testpatchimage\n",
    "    values=sess.run(prediction,feed_dict={xs:testpatchimage,keep_prob:0.5})\n",
    "    #print(values)\n",
    "    binlabel=np.argmax(values)\n",
    "    return binlabel"
   ]
  },
  {
   "cell_type": "code",
   "execution_count": 14,
   "metadata": {},
   "outputs": [
    {
     "name": "stdout",
     "output_type": "stream",
     "text": [
      "uint8\n",
      "1\n"
     ]
    }
   ],
   "source": [
    "testimage = np.zeros((256,256, 1),dtype =np.uint8)\n",
    "img = Image.open('./prediction_images/bin1.png')\n",
    "#img.show()\n",
    "testimage=np.array(img).reshape(256,256,1)\n",
    "print(testimage.dtype.name)\n",
    "x0=124\n",
    "y0=124\n",
    "patchimage=testimage[x0:x0+28,y0:y0+28,0]\n",
    "binlabel=segmentation_binary(patchimage)\n",
    "print(binlabel)"
   ]
  },
  {
   "cell_type": "code",
   "execution_count": 15,
   "metadata": {},
   "outputs": [
    {
     "data": {
      "text/plain": [
       "Text(0.5,1,'FIG2 prediction binary image')"
      ]
     },
     "execution_count": 15,
     "metadata": {},
     "output_type": "execute_result"
    },
    {
     "data": {
      "image/png": "[encoded data removed]",
      "text/plain": [
       "<Figure size 432x288 with 1 Axes>"
      ]
     },
     "metadata": {},
     "output_type": "display_data"
    }
   ],
   "source": [
    "binw=256\n",
    "binh=256\n",
    "#binarray =0*np.ones((binw,binh), dtype=np.bool)\n",
    "binarray =np.full((binw,binh), False, dtype=np.uint8)\n",
    "for j in range(256-28):\n",
    "    for i in range(256-28):\n",
    "     x0=i\n",
    "     y0=j\n",
    "     patchimage=testimage[x0:x0+28,y0:y0+28,0]\n",
    "     binlabel=segmentation_binary(patchimage)\n",
    "     #print(binlabel)\n",
    "     if binlabel == 1:\n",
    "        binarray[x0+14,y0+14]=255\n",
    "\n",
    "\n",
    "plt.imshow(binarray, cmap=plt.cm.gray)\n",
    "plt.title('FIG2 prediction binary image')\n",
    "\n"
   ]
  },
  {
   "cell_type": "code",
   "execution_count": 18,
   "metadata": {},
   "outputs": [],
   "source": [
    "# Convert array to Image\n",
    "imgbinarray = Image.fromarray(binarray)\n",
    "imgbinarray.save('./prediction_images/bin2result.png')\n",
    "#result of synthetic image segmentation"
   ]
  },
  {
   "cell_type": "code",
   "execution_count": 17,
   "metadata": {},
   "outputs": [],
   "source": [
    "#Open I as an array:\n",
    "\n",
    "#I = numpy.asarray(PIL.Image.open('test.jpg'))\n",
    "#Do some stuff to I, then, convert it back to an image:\n",
    "#im = PIL.Image.fromarray(numpy.uint8(I))"
   ]
  },
  {
   "cell_type": "code",
   "execution_count": null,
   "metadata": {},
   "outputs": [],
   "source": []
  }
 ],
 "metadata": {
  "kernelspec": {
   "display_name": "Python 3",
   "language": "python",
   "name": "python3"
  },
  "language_info": {
   "codemirror_mode": {
    "name": "ipython",
    "version": 3
   },
   "file_extension": ".py",
   "mimetype": "text/x-python",
   "name": "python",
   "nbconvert_exporter": "python",
   "pygments_lexer": "ipython3",
   "version": "3.6.4"
  }
 },
 "nbformat": 4,
 "nbformat_minor": 2
}
